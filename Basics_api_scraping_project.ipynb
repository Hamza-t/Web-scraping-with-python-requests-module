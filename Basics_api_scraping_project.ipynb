{
  "nbformat": 4,
  "nbformat_minor": 0,
  "metadata": {
    "kernelspec": {
      "display_name": "Python 3",
      "language": "python",
      "name": "python3"
    },
    "language_info": {
      "codemirror_mode": {
        "name": "ipython",
        "version": 3
      },
      "file_extension": ".py",
      "mimetype": "text/x-python",
      "name": "python",
      "nbconvert_exporter": "python",
      "pygments_lexer": "ipython3",
      "version": "3.9.2"
    },
    "colab": {
      "provenance": [],
      "include_colab_link": true
    }
  },
  "cells": [
    {
      "cell_type": "markdown",
      "metadata": {
        "id": "view-in-github",
        "colab_type": "text"
      },
      "source": [
        "<a href=\"https://colab.research.google.com/github/Hamza-t/Web-scraping-with-python-requests-module/blob/main/Basics_api_scraping_project.ipynb\" target=\"_parent\"><img src=\"https://colab.research.google.com/assets/colab-badge.svg\" alt=\"Open In Colab\"/></a>"
      ]
    },
    {
      "cell_type": "markdown",
      "metadata": {
        "id": "3la0vzohCc9V"
      },
      "source": [
        "#### Step 1 - Imports"
      ]
    },
    {
      "cell_type": "code",
      "metadata": {
        "id": "ev9iy80YCc9c"
      },
      "source": [
        "import requests\n",
        "import pandas as pd "
      ],
      "execution_count": null,
      "outputs": []
    },
    {
      "cell_type": "markdown",
      "metadata": {
        "id": "krflJKMqCc9e"
      },
      "source": [
        "#### Step 2 - Requests & CURL"
      ]
    },
    {
      "cell_type": "code",
      "metadata": {
        "id": "y5s4SbiGCc9e"
      },
      "source": [
        "headers = {\n",
        "    'sec-ch-ua': '^\\\\^Chromium^\\\\^;v=^\\\\^94^\\\\^, ^\\\\^Google',\n",
        "    'Referer': 'https://www.ebooks.com/en-de/subjects/computers/',\n",
        "    'sec-ch-ua-mobile': '?0',\n",
        "    'User-Agent': 'Mozilla/5.0 (Windows NT 10.0; Win64; x64) AppleWebKit/537.36 (KHTML, like Gecko) Chrome/94.0.4590.0 Safari/537.36',\n",
        "    'sec-ch-ua-platform': '^\\\\^Windows^\\\\^',\n",
        "    'Content-Type': 'application/json',\n",
        "}\n",
        "\n",
        "params = (\n",
        "    ('subjectId', '13'),\n",
        "    ('pageNumber', '1'),\n",
        "    ('countryCode', 'DE'),\n",
        ")\n",
        "\n",
        "response = requests.get('https://www.ebooks.com/api/search/subject/', headers=headers, params=params)\n"
      ],
      "execution_count": null,
      "outputs": []
    },
    {
      "cell_type": "markdown",
      "metadata": {
        "id": "qjL6TFgaCc9f"
      },
      "source": [
        "#### Step 3 - Check Status Code"
      ]
    },
    {
      "cell_type": "code",
      "metadata": {
        "colab": {
          "base_uri": "https://localhost:8080/"
        },
        "id": "KXbiWhNTCc9f",
        "outputId": "053564c5-64ae-40e3-c75b-685b3424f23e"
      },
      "source": [
        "response"
      ],
      "execution_count": null,
      "outputs": [
        {
          "output_type": "execute_result",
          "data": {
            "text/plain": [
              "<Response [200]>"
            ]
          },
          "metadata": {},
          "execution_count": 3
        }
      ]
    },
    {
      "cell_type": "markdown",
      "metadata": {
        "id": "1CV1iyWWCc9h"
      },
      "source": [
        "#### Step 4 - Create Json Object"
      ]
    },
    {
      "cell_type": "code",
      "metadata": {
        "colab": {
          "base_uri": "https://localhost:8080/"
        },
        "id": "BXevFkDyCc9h",
        "outputId": "d8cb67dc-fa33-4ec8-f214-caa0c57213b1"
      },
      "source": [
        "response.json()"
      ],
      "execution_count": null,
      "outputs": [
        {
          "output_type": "execute_result",
          "data": {
            "text/plain": [
              "{'books': [{'add_to_cart_url': '/cart/add/95802408/',\n",
              "   'authors': [{'author_name': 'David Miles Huber',\n",
              "     'author_url': '/en-de/author/david-miles-huber/53937/'},\n",
              "    {'author_name': 'Robert E. Runstein',\n",
              "     'author_url': '/en-de/author/robert-e.-runstein/239207/'}],\n",
              "   'book_url': '/en-de/book/95802408/modern-recording-techniques/david-miles-huber/',\n",
              "   'currency_symbol': '€',\n",
              "   'desktop_short_description': 'Modern Recording Techniques is the bestselling, authoritative guide to sound and music recording. Whether you’re just starting out or are looking for a step-up in the industry,  Modern Recording Techniques  provides an in-depth read on the art and technologies of music production. It’s a must-have reference for all audio bookshelves. Using its...',\n",
              "   'edition': ' (9th ed.)',\n",
              "   'has_series': True,\n",
              "   'id': 95802408,\n",
              "   'image_alt_tag': 'Modern Recording Techniques',\n",
              "   'image_url': 'https://image.ebooks.com/previews/095/095802/095802408/095802408-sml-1.jpg',\n",
              "   'is_available': True,\n",
              "   'is_preorder': False,\n",
              "   'mobile_short_description': 'Modern Recording Techniques is the bestselling, authoritative guide to sound and music recording....',\n",
              "   'num_authors': 2,\n",
              "   'preorder_url': '/account/preorder/?bookId=95802408',\n",
              "   'price': '40,62 €',\n",
              "   'price_number': 40.6176694839,\n",
              "   'publication_year': '2017',\n",
              "   'publisher': 'Taylor and Francis',\n",
              "   'series': 'ISSN Series',\n",
              "   'series_number': '',\n",
              "   'series_url': 'https://www.ebooks.com/en-de/series/issn/',\n",
              "   'subtitle': '',\n",
              "   'title': 'Modern Recording Techniques'},\n",
              "  {'add_to_cart_url': '/cart/add/589081/',\n",
              "   'authors': [{'author_name': 'Jennifer Aaker',\n",
              "     'author_url': '/en-de/author/jennifer-aaker/264487/'},\n",
              "    {'author_name': 'Andy Smith',\n",
              "     'author_url': '/en-de/author/andy-smith/36949/'}],\n",
              "   'book_url': '/en-de/book/589081/the-dragonfly-effect/jennifer-aaker/',\n",
              "   'currency_symbol': '€',\n",
              "   'desktop_short_description': 'Proven strategies for harnessing the power of social media to drive social change   Many books teach the mechanics of using Facebook, Twitter, and YouTube to compete in business. But no book addresses how to harness the incredible power of social media to make a difference.  The Dragonfly Effect  shows you how to tap social media and consumer...',\n",
              "   'edition': '',\n",
              "   'has_series': False,\n",
              "   'id': 589081,\n",
              "   'image_alt_tag': 'The Dragonfly Effect: Quick, Effective, and Powerful Ways To Use Social Media to Drive Social Change',\n",
              "   'image_url': 'https://image.ebooks.com/previews/000/000589/000589081/000589081-sml-1.jpg',\n",
              "   'is_available': True,\n",
              "   'is_preorder': False,\n",
              "   'mobile_short_description': 'Proven strategies for harnessing the power of social media to drive social change   Many books teach...',\n",
              "   'num_authors': 5,\n",
              "   'preorder_url': '/account/preorder/?bookId=589081',\n",
              "   'price': '16,99 €',\n",
              "   'price_number': 16.99,\n",
              "   'publication_year': '2010',\n",
              "   'publisher': 'Wiley',\n",
              "   'series': ' Series',\n",
              "   'series_number': '',\n",
              "   'series_url': '',\n",
              "   'subtitle': 'Quick, Effective, and Powerful Ways To Use Social Media to Drive Social Change',\n",
              "   'title': 'The Dragonfly Effect'},\n",
              "  {'add_to_cart_url': '/cart/add/210124083/',\n",
              "   'authors': [{'author_name': 'Martin M. Weiss',\n",
              "     'author_url': '/en-de/author/martin-m.-weiss/94214231/'}],\n",
              "   'book_url': '/en-de/book/210124083/comptia-security-sy0-601-exam-cram/martin-m-weiss/',\n",
              "   'currency_symbol': '€',\n",
              "   'desktop_short_description': 'CompTIA® Security+ SY0-601 Exam Cram,  is the perfect study guide to help you pass the newly updated version of the CompTIA Security+ exam. It provides coverage and practice questions for every exam topic. Extensive prep tools include quizzes, Exam Alerts, and our essential last-minute review Cram Sheet. The powerful Pearson Test Prep practice...',\n",
              "   'edition': ' (6th ed.)',\n",
              "   'has_series': False,\n",
              "   'id': 210124083,\n",
              "   'image_alt_tag': 'CompTIA Security&#x2B; SY0-601 Exam Cram',\n",
              "   'image_url': 'https://image.ebooks.com/previews/210/210124/210124083/210124083-sml-1.jpg',\n",
              "   'is_available': True,\n",
              "   'is_preorder': False,\n",
              "   'mobile_short_description': 'CompTIA® Security+ SY0-601 Exam Cram,  is the perfect study guide to help you pass the newly updated...',\n",
              "   'num_authors': 1,\n",
              "   'preorder_url': '/account/preorder/?bookId=210124083',\n",
              "   'price': '33,19 €',\n",
              "   'price_number': 33.1944389605,\n",
              "   'publication_year': '2020',\n",
              "   'publisher': 'Pearson Education',\n",
              "   'series': ' Series',\n",
              "   'series_number': '',\n",
              "   'series_url': '',\n",
              "   'subtitle': '',\n",
              "   'title': 'CompTIA Security+ SY0-601 Exam Cram'},\n",
              "  {'add_to_cart_url': '/cart/add/95640666/',\n",
              "   'authors': [{'author_name': 'Jake VanderPlas',\n",
              "     'author_url': '/en-de/author/jake-vanderplas/1293677/'}],\n",
              "   'book_url': '/en-de/book/95640666/python-data-science-handbook/jake-vanderplas/',\n",
              "   'currency_symbol': '€',\n",
              "   'desktop_short_description': 'For many researchers, Python is a first-class tool mainly because of its libraries for storing, manipulating, and gaining insight from data. Several resources exist for individual pieces of this data science stack, but only with the Python Data Science Handbook do you get them all—IPython, NumPy, Pandas, Matplotlib, Scikit-Learn, and other related...',\n",
              "   'edition': '',\n",
              "   'has_series': False,\n",
              "   'id': 95640666,\n",
              "   'image_alt_tag': 'Python Data Science Handbook: Essential Tools for Working with Data',\n",
              "   'image_url': 'https://image.ebooks.com/previews/095/095640/095640666/095640666-sml-1.jpg',\n",
              "   'is_available': True,\n",
              "   'is_preorder': False,\n",
              "   'mobile_short_description': 'For many researchers, Python is a first-class tool mainly because of its libraries for storing,...',\n",
              "   'num_authors': 1,\n",
              "   'preorder_url': '/account/preorder/?bookId=95640666',\n",
              "   'price': '49,22 €',\n",
              "   'price_number': 49.22,\n",
              "   'publication_year': '2016',\n",
              "   'publisher': \"O'Reilly Media\",\n",
              "   'series': ' Series',\n",
              "   'series_number': '',\n",
              "   'series_url': '',\n",
              "   'subtitle': 'Essential Tools for Working with Data',\n",
              "   'title': 'Python Data Science Handbook'},\n",
              "  {'add_to_cart_url': '/cart/add/209622672/',\n",
              "   'authors': [{'author_name': 'Rune Rasmussen',\n",
              "     'author_url': '/en-de/author/rune-rasmussen/208214532/'},\n",
              "    {'author_name': 'Harish Gulati',\n",
              "     'author_url': '/en-de/author/harish-gulati/208214531/'}],\n",
              "   'book_url': '/en-de/book/209622672/data-analyst/rune-rasmussen/',\n",
              "   'currency_symbol': '€',\n",
              "   'desktop_short_description': 'With this book, aspiring data analysts will discover what data analysts do all day, what skills they will need for the role, and what regulations they will be required to adhere to. Practising data analysts can explore useful data analysis tools, methods and techniques, brush up on best practices and look at how they can advance their career.',\n",
              "   'edition': '',\n",
              "   'has_series': False,\n",
              "   'id': 209622672,\n",
              "   'image_alt_tag': 'Data Analyst: Careers in data analysis',\n",
              "   'image_url': 'https://image.ebooks.com/previews/209/209622/209622672/209622672-sml-1.jpg',\n",
              "   'is_available': True,\n",
              "   'is_preorder': False,\n",
              "   'mobile_short_description': 'With this book, aspiring data analysts will discover what data analysts do all day, what skills they...',\n",
              "   'num_authors': 6,\n",
              "   'preorder_url': '/account/preorder/?bookId=209622672',\n",
              "   'price': '24,60 €',\n",
              "   'price_number': 24.5993,\n",
              "   'publication_year': '2019',\n",
              "   'publisher': 'BCS Learning & Development Limited',\n",
              "   'series': ' Series',\n",
              "   'series_number': '',\n",
              "   'series_url': '',\n",
              "   'subtitle': 'Careers in data analysis',\n",
              "   'title': 'Data Analyst'},\n",
              "  {'add_to_cart_url': '/cart/add/210086046/',\n",
              "   'authors': [{'author_name': 'David Nahmani',\n",
              "     'author_url': '/en-de/author/david-nahmani/202181/'}],\n",
              "   'book_url': '/en-de/book/210086046/logic-pro-x-10-5-apple-pro-training-series/david-nahmani/',\n",
              "   'currency_symbol': '€',\n",
              "   'desktop_short_description': 'Logic Pro X 10.6 Update: Although there has been a 10.6 release since the time that this book was published, the content is still applicable. The changes in 10.6 do not affect the book content.      Record, arrange, mix, produce, and polish your music with this best-selling, Apple-certified guide to Logic Pro X 10.5. Veteran producer and composer...',\n",
              "   'edition': '',\n",
              "   'has_series': True,\n",
              "   'id': 210086046,\n",
              "   'image_alt_tag': 'Logic Pro X 10.5 - Apple Pro Training Series: Professional Music Production',\n",
              "   'image_url': 'https://image.ebooks.com/previews/210/210086/210086046/210086046-sml-1.jpg',\n",
              "   'is_available': True,\n",
              "   'is_preorder': False,\n",
              "   'mobile_short_description': 'Logic Pro X 10.6 Update: Although there has been a 10.6 release since the time that this book was...',\n",
              "   'num_authors': 1,\n",
              "   'preorder_url': '/account/preorder/?bookId=210086046',\n",
              "   'price': '55,33 €',\n",
              "   'price_number': 55.3302137605,\n",
              "   'publication_year': '2020',\n",
              "   'publisher': 'Pearson Education',\n",
              "   'series': 'Apple Pro Training Series',\n",
              "   'series_number': '',\n",
              "   'series_url': 'https://www.ebooks.com/en-de/series/apple-pro-training/',\n",
              "   'subtitle': 'Professional Music Production',\n",
              "   'title': 'Logic Pro X 10.5 - Apple Pro Training Series'},\n",
              "  {'add_to_cart_url': '/cart/add/817871/',\n",
              "   'authors': [{'author_name': 'Jon Duckett',\n",
              "     'author_url': '/en-de/author/jon-duckett/50444/'}],\n",
              "   'book_url': '/en-de/book/817871/html-and-css/jon-duckett/',\n",
              "   'currency_symbol': '€',\n",
              "   'desktop_short_description': 'A full-color introduction to the basics of HTML and CSS!   Every day, more and more people want to learn some HTML and CSS. Joining the professional web designers and programmers are new audiences who need to know a little bit of code at work (update a content management system or e-commerce store) and those who want to make their personal blogs...',\n",
              "   'edition': '',\n",
              "   'has_series': False,\n",
              "   'id': 817871,\n",
              "   'image_alt_tag': 'HTML and CSS: Design and Build Websites',\n",
              "   'image_url': 'https://image.ebooks.com/previews/000/000817/000817871/000817871-sml-1.jpg',\n",
              "   'is_available': True,\n",
              "   'is_preorder': False,\n",
              "   'mobile_short_description': 'A full-color introduction to the basics of HTML and CSS!   Every day, more and more people want to...',\n",
              "   'num_authors': 1,\n",
              "   'preorder_url': '/account/preorder/?bookId=817871',\n",
              "   'price': '19,99 €',\n",
              "   'price_number': 19.99,\n",
              "   'publication_year': '2011',\n",
              "   'publisher': 'Wiley',\n",
              "   'series': ' Series',\n",
              "   'series_number': '',\n",
              "   'series_url': '',\n",
              "   'subtitle': 'Design and Build Websites',\n",
              "   'title': 'HTML and CSS'},\n",
              "  {'add_to_cart_url': '/cart/add/210202687/',\n",
              "   'authors': [{'author_name': 'Mike Chapple',\n",
              "     'author_url': '/en-de/author/mike-chapple/49085/'},\n",
              "    {'author_name': 'David Seidl',\n",
              "     'author_url': '/en-de/author/david-seidl/246896/'}],\n",
              "   'book_url': '/en-de/book/210202687/comptia-security-study-guide/mike-chapple/',\n",
              "   'currency_symbol': '€',\n",
              "   'desktop_short_description': 'Learn the key objectives and most crucial concepts covered by the Security+ Exam SY0-601  \\xa0with this comprehensive and practical study guide! An online test bank offers 650 practice questions and flashcards!    The Eighth Edition of the\\xa0 CompTIA Security+ Study Guide Exam SY0-601 \\xa0efficiently and\\xa0comprehensively prepares you for the SY0-601 Exam....',\n",
              "   'edition': ' (8th ed.)',\n",
              "   'has_series': False,\n",
              "   'id': 210202687,\n",
              "   'image_alt_tag': 'CompTIA Security&#x2B; Study Guide: Exam SY0-601',\n",
              "   'image_url': 'https://image.ebooks.com/previews/210/210202/210202687/210202687-sml-1.jpg',\n",
              "   'is_available': True,\n",
              "   'is_preorder': False,\n",
              "   'mobile_short_description': 'Learn the key objectives and most crucial concepts covered by the Security+ Exam SY0-601  \\xa0with this...',\n",
              "   'num_authors': 2,\n",
              "   'preorder_url': '/account/preorder/?bookId=210202687',\n",
              "   'price': '32,99 €',\n",
              "   'price_number': 32.99,\n",
              "   'publication_year': '2021',\n",
              "   'publisher': 'Wiley',\n",
              "   'series': ' Series',\n",
              "   'series_number': '',\n",
              "   'series_url': '',\n",
              "   'subtitle': 'Exam SY0-601',\n",
              "   'title': 'CompTIA Security+ Study Guide'},\n",
              "  {'add_to_cart_url': '/cart/add/95707582/',\n",
              "   'authors': [{'author_name': 'Laura Igual',\n",
              "     'author_url': '/en-de/author/laura-igual/1315722/'},\n",
              "    {'author_name': 'Santi Seguí',\n",
              "     'author_url': '/en-de/author/santi-seguí/1315723/'}],\n",
              "   'book_url': '/en-de/book/95707582/introduction-to-data-science/laura-igual/',\n",
              "   'currency_symbol': '€',\n",
              "   'desktop_short_description': 'This accessible and classroom-tested textbook/reference presents an introduction to the fundamentals of the emerging and interdisciplinary field of data science. The coverage spans key concepts adopted from statistics and machine learning, useful techniques for graph analysis and parallel programming, and the practical application of data science...',\n",
              "   'edition': '',\n",
              "   'has_series': True,\n",
              "   'id': 95707582,\n",
              "   'image_alt_tag': 'Introduction to Data Science: A Python Approach to Concepts, Techniques and Applications',\n",
              "   'image_url': 'https://image.ebooks.com/previews/095/095707/095707582/095707582-sml-1.jpg',\n",
              "   'is_available': True,\n",
              "   'is_preorder': False,\n",
              "   'mobile_short_description': 'This accessible and classroom-tested textbook/reference presents an introduction to the fundamentals...',\n",
              "   'num_authors': 9,\n",
              "   'preorder_url': '/account/preorder/?bookId=95707582',\n",
              "   'price': '48,14 €',\n",
              "   'price_number': 48.1393,\n",
              "   'publication_year': '2017',\n",
              "   'publisher': 'Springer International Publishing',\n",
              "   'series': 'Undergraduate Topics In Computer Science Series',\n",
              "   'series_number': '',\n",
              "   'series_url': 'https://www.ebooks.com/en-de/series/undergraduate-topics-in-computer-science/',\n",
              "   'subtitle': 'A Python Approach to Concepts, Techniques and Applications',\n",
              "   'title': 'Introduction to Data Science'},\n",
              "  {'add_to_cart_url': '/cart/add/209980266/',\n",
              "   'authors': [{'author_name': 'Nicholas Papagiannis',\n",
              "     'author_url': '/en-de/author/nicholas-papagiannis/208382552/'}],\n",
              "   'book_url': '/en-de/book/209980266/effective-seo-and-content-marketing/nicholas-papagiannis/',\n",
              "   'currency_symbol': '€',\n",
              "   'desktop_short_description': 'Get beyond the basics and see how modern-day users are reimaging the SEO process    SEO is often underutilized and overlooked across the marketing realm today. SEO is not merely trying to improve your website ranking on Google, but it can spark and optimize ideas.\\xa0 Above all it can help improve the amount of free traffic coming to your web...',\n",
              "   'edition': '',\n",
              "   'has_series': False,\n",
              "   'id': 209980266,\n",
              "   'image_alt_tag': 'Effective SEO and Content Marketing: The Ultimate Guide for Maximizing Free Web Traffic',\n",
              "   'image_url': 'https://image.ebooks.com/previews/209/209980/209980266/209980266-sml-1.jpg',\n",
              "   'is_available': True,\n",
              "   'is_preorder': False,\n",
              "   'mobile_short_description': 'Get beyond the basics and see how modern-day users are reimaging the SEO process    SEO is often...',\n",
              "   'num_authors': 1,\n",
              "   'preorder_url': '/account/preorder/?bookId=209980266',\n",
              "   'price': '28,99 €',\n",
              "   'price_number': 28.99,\n",
              "   'publication_year': '2020',\n",
              "   'publisher': 'Wiley',\n",
              "   'series': ' Series',\n",
              "   'series_number': '',\n",
              "   'series_url': '',\n",
              "   'subtitle': 'The Ultimate Guide for Maximizing Free Web Traffic',\n",
              "   'title': 'Effective SEO and Content Marketing'}],\n",
              " 'next_page': '/en-de/subjects/computers/?pageNumber=2',\n",
              " 'pages': [{'is_selected': True,\n",
              "   'number': '1',\n",
              "   'search_url': '/en-de/subjects/computers/',\n",
              "   'show_mobile': True,\n",
              "   'show_tablet': True},\n",
              "  {'is_selected': False,\n",
              "   'number': '2',\n",
              "   'search_url': '/en-de/subjects/computers/?pageNumber=2',\n",
              "   'show_mobile': True,\n",
              "   'show_tablet': True},\n",
              "  {'is_selected': False,\n",
              "   'number': '3',\n",
              "   'search_url': '/en-de/subjects/computers/?pageNumber=3',\n",
              "   'show_mobile': True,\n",
              "   'show_tablet': True},\n",
              "  {'is_selected': False,\n",
              "   'number': '4',\n",
              "   'search_url': '/en-de/subjects/computers/?pageNumber=4',\n",
              "   'show_mobile': True,\n",
              "   'show_tablet': True},\n",
              "  {'is_selected': False,\n",
              "   'number': '5',\n",
              "   'search_url': '/en-de/subjects/computers/?pageNumber=5',\n",
              "   'show_mobile': True,\n",
              "   'show_tablet': True},\n",
              "  {'is_selected': False,\n",
              "   'number': '6',\n",
              "   'search_url': '/en-de/subjects/computers/?pageNumber=6',\n",
              "   'show_mobile': False,\n",
              "   'show_tablet': True},\n",
              "  {'is_selected': False,\n",
              "   'number': '7',\n",
              "   'search_url': '/en-de/subjects/computers/?pageNumber=7',\n",
              "   'show_mobile': False,\n",
              "   'show_tablet': True},\n",
              "  {'is_selected': False,\n",
              "   'number': '8',\n",
              "   'search_url': '/en-de/subjects/computers/?pageNumber=8',\n",
              "   'show_mobile': False,\n",
              "   'show_tablet': True},\n",
              "  {'is_selected': False,\n",
              "   'number': '9',\n",
              "   'search_url': '/en-de/subjects/computers/?pageNumber=9',\n",
              "   'show_mobile': False,\n",
              "   'show_tablet': False}],\n",
              " 'previous_page': None,\n",
              " 'result_page_range': '1 - 10 of 77185 results'}"
            ]
          },
          "metadata": {},
          "execution_count": 4
        }
      ]
    },
    {
      "cell_type": "code",
      "metadata": {
        "colab": {
          "base_uri": "https://localhost:8080/"
        },
        "id": "jl90-y7oCc9i",
        "outputId": "b342063a-1918-499e-fe19-fff8c4777565"
      },
      "source": [
        "type(response.json())"
      ],
      "execution_count": null,
      "outputs": [
        {
          "output_type": "execute_result",
          "data": {
            "text/plain": [
              "dict"
            ]
          },
          "metadata": {},
          "execution_count": 5
        }
      ]
    },
    {
      "cell_type": "markdown",
      "metadata": {
        "id": "rj17v7XgCc9j"
      },
      "source": [
        "#### Step 5 - Output Keys"
      ]
    },
    {
      "cell_type": "code",
      "metadata": {
        "colab": {
          "base_uri": "https://localhost:8080/"
        },
        "id": "FLwFnR1WCc9j",
        "outputId": "4d678d91-451a-4385-fc61-b77313d07dbc"
      },
      "source": [
        "response.json().keys()"
      ],
      "execution_count": null,
      "outputs": [
        {
          "output_type": "execute_result",
          "data": {
            "text/plain": [
              "dict_keys(['pages', 'previous_page', 'next_page', 'books', 'result_page_range'])"
            ]
          },
          "metadata": {},
          "execution_count": 6
        }
      ]
    },
    {
      "cell_type": "markdown",
      "metadata": {
        "id": "vI5JQYoVCc9k"
      },
      "source": [
        "#### Step 6 - Find your Data"
      ]
    },
    {
      "cell_type": "code",
      "metadata": {
        "id": "kqSCNYfvCc9k"
      },
      "source": [
        "# title\n",
        "# subtitle\n",
        "# author\n",
        "# publisher\n",
        "# publication year\n",
        "# price"
      ],
      "execution_count": null,
      "outputs": []
    },
    {
      "cell_type": "code",
      "metadata": {
        "colab": {
          "base_uri": "https://localhost:8080/"
        },
        "id": "rwBNGPm1Cc9k",
        "outputId": "3b5d26c5-9d18-4516-b771-b8974b53db5b"
      },
      "source": [
        "response.json()['books']"
      ],
      "execution_count": null,
      "outputs": [
        {
          "output_type": "execute_result",
          "data": {
            "text/plain": [
              "[{'add_to_cart_url': '/cart/add/95802408/',\n",
              "  'authors': [{'author_name': 'David Miles Huber',\n",
              "    'author_url': '/en-de/author/david-miles-huber/53937/'},\n",
              "   {'author_name': 'Robert E. Runstein',\n",
              "    'author_url': '/en-de/author/robert-e.-runstein/239207/'}],\n",
              "  'book_url': '/en-de/book/95802408/modern-recording-techniques/david-miles-huber/',\n",
              "  'currency_symbol': '€',\n",
              "  'desktop_short_description': 'Modern Recording Techniques is the bestselling, authoritative guide to sound and music recording. Whether you’re just starting out or are looking for a step-up in the industry,  Modern Recording Techniques  provides an in-depth read on the art and technologies of music production. It’s a must-have reference for all audio bookshelves. Using its...',\n",
              "  'edition': ' (9th ed.)',\n",
              "  'has_series': True,\n",
              "  'id': 95802408,\n",
              "  'image_alt_tag': 'Modern Recording Techniques',\n",
              "  'image_url': 'https://image.ebooks.com/previews/095/095802/095802408/095802408-sml-1.jpg',\n",
              "  'is_available': True,\n",
              "  'is_preorder': False,\n",
              "  'mobile_short_description': 'Modern Recording Techniques is the bestselling, authoritative guide to sound and music recording....',\n",
              "  'num_authors': 2,\n",
              "  'preorder_url': '/account/preorder/?bookId=95802408',\n",
              "  'price': '40,62 €',\n",
              "  'price_number': 40.6176694839,\n",
              "  'publication_year': '2017',\n",
              "  'publisher': 'Taylor and Francis',\n",
              "  'series': 'ISSN Series',\n",
              "  'series_number': '',\n",
              "  'series_url': 'https://www.ebooks.com/en-de/series/issn/',\n",
              "  'subtitle': '',\n",
              "  'title': 'Modern Recording Techniques'},\n",
              " {'add_to_cart_url': '/cart/add/589081/',\n",
              "  'authors': [{'author_name': 'Jennifer Aaker',\n",
              "    'author_url': '/en-de/author/jennifer-aaker/264487/'},\n",
              "   {'author_name': 'Andy Smith',\n",
              "    'author_url': '/en-de/author/andy-smith/36949/'}],\n",
              "  'book_url': '/en-de/book/589081/the-dragonfly-effect/jennifer-aaker/',\n",
              "  'currency_symbol': '€',\n",
              "  'desktop_short_description': 'Proven strategies for harnessing the power of social media to drive social change   Many books teach the mechanics of using Facebook, Twitter, and YouTube to compete in business. But no book addresses how to harness the incredible power of social media to make a difference.  The Dragonfly Effect  shows you how to tap social media and consumer...',\n",
              "  'edition': '',\n",
              "  'has_series': False,\n",
              "  'id': 589081,\n",
              "  'image_alt_tag': 'The Dragonfly Effect: Quick, Effective, and Powerful Ways To Use Social Media to Drive Social Change',\n",
              "  'image_url': 'https://image.ebooks.com/previews/000/000589/000589081/000589081-sml-1.jpg',\n",
              "  'is_available': True,\n",
              "  'is_preorder': False,\n",
              "  'mobile_short_description': 'Proven strategies for harnessing the power of social media to drive social change   Many books teach...',\n",
              "  'num_authors': 5,\n",
              "  'preorder_url': '/account/preorder/?bookId=589081',\n",
              "  'price': '16,99 €',\n",
              "  'price_number': 16.99,\n",
              "  'publication_year': '2010',\n",
              "  'publisher': 'Wiley',\n",
              "  'series': ' Series',\n",
              "  'series_number': '',\n",
              "  'series_url': '',\n",
              "  'subtitle': 'Quick, Effective, and Powerful Ways To Use Social Media to Drive Social Change',\n",
              "  'title': 'The Dragonfly Effect'},\n",
              " {'add_to_cart_url': '/cart/add/210124083/',\n",
              "  'authors': [{'author_name': 'Martin M. Weiss',\n",
              "    'author_url': '/en-de/author/martin-m.-weiss/94214231/'}],\n",
              "  'book_url': '/en-de/book/210124083/comptia-security-sy0-601-exam-cram/martin-m-weiss/',\n",
              "  'currency_symbol': '€',\n",
              "  'desktop_short_description': 'CompTIA® Security+ SY0-601 Exam Cram,  is the perfect study guide to help you pass the newly updated version of the CompTIA Security+ exam. It provides coverage and practice questions for every exam topic. Extensive prep tools include quizzes, Exam Alerts, and our essential last-minute review Cram Sheet. The powerful Pearson Test Prep practice...',\n",
              "  'edition': ' (6th ed.)',\n",
              "  'has_series': False,\n",
              "  'id': 210124083,\n",
              "  'image_alt_tag': 'CompTIA Security&#x2B; SY0-601 Exam Cram',\n",
              "  'image_url': 'https://image.ebooks.com/previews/210/210124/210124083/210124083-sml-1.jpg',\n",
              "  'is_available': True,\n",
              "  'is_preorder': False,\n",
              "  'mobile_short_description': 'CompTIA® Security+ SY0-601 Exam Cram,  is the perfect study guide to help you pass the newly updated...',\n",
              "  'num_authors': 1,\n",
              "  'preorder_url': '/account/preorder/?bookId=210124083',\n",
              "  'price': '33,19 €',\n",
              "  'price_number': 33.1944389605,\n",
              "  'publication_year': '2020',\n",
              "  'publisher': 'Pearson Education',\n",
              "  'series': ' Series',\n",
              "  'series_number': '',\n",
              "  'series_url': '',\n",
              "  'subtitle': '',\n",
              "  'title': 'CompTIA Security+ SY0-601 Exam Cram'},\n",
              " {'add_to_cart_url': '/cart/add/95640666/',\n",
              "  'authors': [{'author_name': 'Jake VanderPlas',\n",
              "    'author_url': '/en-de/author/jake-vanderplas/1293677/'}],\n",
              "  'book_url': '/en-de/book/95640666/python-data-science-handbook/jake-vanderplas/',\n",
              "  'currency_symbol': '€',\n",
              "  'desktop_short_description': 'For many researchers, Python is a first-class tool mainly because of its libraries for storing, manipulating, and gaining insight from data. Several resources exist for individual pieces of this data science stack, but only with the Python Data Science Handbook do you get them all—IPython, NumPy, Pandas, Matplotlib, Scikit-Learn, and other related...',\n",
              "  'edition': '',\n",
              "  'has_series': False,\n",
              "  'id': 95640666,\n",
              "  'image_alt_tag': 'Python Data Science Handbook: Essential Tools for Working with Data',\n",
              "  'image_url': 'https://image.ebooks.com/previews/095/095640/095640666/095640666-sml-1.jpg',\n",
              "  'is_available': True,\n",
              "  'is_preorder': False,\n",
              "  'mobile_short_description': 'For many researchers, Python is a first-class tool mainly because of its libraries for storing,...',\n",
              "  'num_authors': 1,\n",
              "  'preorder_url': '/account/preorder/?bookId=95640666',\n",
              "  'price': '49,22 €',\n",
              "  'price_number': 49.22,\n",
              "  'publication_year': '2016',\n",
              "  'publisher': \"O'Reilly Media\",\n",
              "  'series': ' Series',\n",
              "  'series_number': '',\n",
              "  'series_url': '',\n",
              "  'subtitle': 'Essential Tools for Working with Data',\n",
              "  'title': 'Python Data Science Handbook'},\n",
              " {'add_to_cart_url': '/cart/add/209622672/',\n",
              "  'authors': [{'author_name': 'Rune Rasmussen',\n",
              "    'author_url': '/en-de/author/rune-rasmussen/208214532/'},\n",
              "   {'author_name': 'Harish Gulati',\n",
              "    'author_url': '/en-de/author/harish-gulati/208214531/'}],\n",
              "  'book_url': '/en-de/book/209622672/data-analyst/rune-rasmussen/',\n",
              "  'currency_symbol': '€',\n",
              "  'desktop_short_description': 'With this book, aspiring data analysts will discover what data analysts do all day, what skills they will need for the role, and what regulations they will be required to adhere to. Practising data analysts can explore useful data analysis tools, methods and techniques, brush up on best practices and look at how they can advance their career.',\n",
              "  'edition': '',\n",
              "  'has_series': False,\n",
              "  'id': 209622672,\n",
              "  'image_alt_tag': 'Data Analyst: Careers in data analysis',\n",
              "  'image_url': 'https://image.ebooks.com/previews/209/209622/209622672/209622672-sml-1.jpg',\n",
              "  'is_available': True,\n",
              "  'is_preorder': False,\n",
              "  'mobile_short_description': 'With this book, aspiring data analysts will discover what data analysts do all day, what skills they...',\n",
              "  'num_authors': 6,\n",
              "  'preorder_url': '/account/preorder/?bookId=209622672',\n",
              "  'price': '24,60 €',\n",
              "  'price_number': 24.5993,\n",
              "  'publication_year': '2019',\n",
              "  'publisher': 'BCS Learning & Development Limited',\n",
              "  'series': ' Series',\n",
              "  'series_number': '',\n",
              "  'series_url': '',\n",
              "  'subtitle': 'Careers in data analysis',\n",
              "  'title': 'Data Analyst'},\n",
              " {'add_to_cart_url': '/cart/add/210086046/',\n",
              "  'authors': [{'author_name': 'David Nahmani',\n",
              "    'author_url': '/en-de/author/david-nahmani/202181/'}],\n",
              "  'book_url': '/en-de/book/210086046/logic-pro-x-10-5-apple-pro-training-series/david-nahmani/',\n",
              "  'currency_symbol': '€',\n",
              "  'desktop_short_description': 'Logic Pro X 10.6 Update: Although there has been a 10.6 release since the time that this book was published, the content is still applicable. The changes in 10.6 do not affect the book content.      Record, arrange, mix, produce, and polish your music with this best-selling, Apple-certified guide to Logic Pro X 10.5. Veteran producer and composer...',\n",
              "  'edition': '',\n",
              "  'has_series': True,\n",
              "  'id': 210086046,\n",
              "  'image_alt_tag': 'Logic Pro X 10.5 - Apple Pro Training Series: Professional Music Production',\n",
              "  'image_url': 'https://image.ebooks.com/previews/210/210086/210086046/210086046-sml-1.jpg',\n",
              "  'is_available': True,\n",
              "  'is_preorder': False,\n",
              "  'mobile_short_description': 'Logic Pro X 10.6 Update: Although there has been a 10.6 release since the time that this book was...',\n",
              "  'num_authors': 1,\n",
              "  'preorder_url': '/account/preorder/?bookId=210086046',\n",
              "  'price': '55,33 €',\n",
              "  'price_number': 55.3302137605,\n",
              "  'publication_year': '2020',\n",
              "  'publisher': 'Pearson Education',\n",
              "  'series': 'Apple Pro Training Series',\n",
              "  'series_number': '',\n",
              "  'series_url': 'https://www.ebooks.com/en-de/series/apple-pro-training/',\n",
              "  'subtitle': 'Professional Music Production',\n",
              "  'title': 'Logic Pro X 10.5 - Apple Pro Training Series'},\n",
              " {'add_to_cart_url': '/cart/add/817871/',\n",
              "  'authors': [{'author_name': 'Jon Duckett',\n",
              "    'author_url': '/en-de/author/jon-duckett/50444/'}],\n",
              "  'book_url': '/en-de/book/817871/html-and-css/jon-duckett/',\n",
              "  'currency_symbol': '€',\n",
              "  'desktop_short_description': 'A full-color introduction to the basics of HTML and CSS!   Every day, more and more people want to learn some HTML and CSS. Joining the professional web designers and programmers are new audiences who need to know a little bit of code at work (update a content management system or e-commerce store) and those who want to make their personal blogs...',\n",
              "  'edition': '',\n",
              "  'has_series': False,\n",
              "  'id': 817871,\n",
              "  'image_alt_tag': 'HTML and CSS: Design and Build Websites',\n",
              "  'image_url': 'https://image.ebooks.com/previews/000/000817/000817871/000817871-sml-1.jpg',\n",
              "  'is_available': True,\n",
              "  'is_preorder': False,\n",
              "  'mobile_short_description': 'A full-color introduction to the basics of HTML and CSS!   Every day, more and more people want to...',\n",
              "  'num_authors': 1,\n",
              "  'preorder_url': '/account/preorder/?bookId=817871',\n",
              "  'price': '19,99 €',\n",
              "  'price_number': 19.99,\n",
              "  'publication_year': '2011',\n",
              "  'publisher': 'Wiley',\n",
              "  'series': ' Series',\n",
              "  'series_number': '',\n",
              "  'series_url': '',\n",
              "  'subtitle': 'Design and Build Websites',\n",
              "  'title': 'HTML and CSS'},\n",
              " {'add_to_cart_url': '/cart/add/210202687/',\n",
              "  'authors': [{'author_name': 'Mike Chapple',\n",
              "    'author_url': '/en-de/author/mike-chapple/49085/'},\n",
              "   {'author_name': 'David Seidl',\n",
              "    'author_url': '/en-de/author/david-seidl/246896/'}],\n",
              "  'book_url': '/en-de/book/210202687/comptia-security-study-guide/mike-chapple/',\n",
              "  'currency_symbol': '€',\n",
              "  'desktop_short_description': 'Learn the key objectives and most crucial concepts covered by the Security+ Exam SY0-601  \\xa0with this comprehensive and practical study guide! An online test bank offers 650 practice questions and flashcards!    The Eighth Edition of the\\xa0 CompTIA Security+ Study Guide Exam SY0-601 \\xa0efficiently and\\xa0comprehensively prepares you for the SY0-601 Exam....',\n",
              "  'edition': ' (8th ed.)',\n",
              "  'has_series': False,\n",
              "  'id': 210202687,\n",
              "  'image_alt_tag': 'CompTIA Security&#x2B; Study Guide: Exam SY0-601',\n",
              "  'image_url': 'https://image.ebooks.com/previews/210/210202/210202687/210202687-sml-1.jpg',\n",
              "  'is_available': True,\n",
              "  'is_preorder': False,\n",
              "  'mobile_short_description': 'Learn the key objectives and most crucial concepts covered by the Security+ Exam SY0-601  \\xa0with this...',\n",
              "  'num_authors': 2,\n",
              "  'preorder_url': '/account/preorder/?bookId=210202687',\n",
              "  'price': '32,99 €',\n",
              "  'price_number': 32.99,\n",
              "  'publication_year': '2021',\n",
              "  'publisher': 'Wiley',\n",
              "  'series': ' Series',\n",
              "  'series_number': '',\n",
              "  'series_url': '',\n",
              "  'subtitle': 'Exam SY0-601',\n",
              "  'title': 'CompTIA Security+ Study Guide'},\n",
              " {'add_to_cart_url': '/cart/add/95707582/',\n",
              "  'authors': [{'author_name': 'Laura Igual',\n",
              "    'author_url': '/en-de/author/laura-igual/1315722/'},\n",
              "   {'author_name': 'Santi Seguí',\n",
              "    'author_url': '/en-de/author/santi-seguí/1315723/'}],\n",
              "  'book_url': '/en-de/book/95707582/introduction-to-data-science/laura-igual/',\n",
              "  'currency_symbol': '€',\n",
              "  'desktop_short_description': 'This accessible and classroom-tested textbook/reference presents an introduction to the fundamentals of the emerging and interdisciplinary field of data science. The coverage spans key concepts adopted from statistics and machine learning, useful techniques for graph analysis and parallel programming, and the practical application of data science...',\n",
              "  'edition': '',\n",
              "  'has_series': True,\n",
              "  'id': 95707582,\n",
              "  'image_alt_tag': 'Introduction to Data Science: A Python Approach to Concepts, Techniques and Applications',\n",
              "  'image_url': 'https://image.ebooks.com/previews/095/095707/095707582/095707582-sml-1.jpg',\n",
              "  'is_available': True,\n",
              "  'is_preorder': False,\n",
              "  'mobile_short_description': 'This accessible and classroom-tested textbook/reference presents an introduction to the fundamentals...',\n",
              "  'num_authors': 9,\n",
              "  'preorder_url': '/account/preorder/?bookId=95707582',\n",
              "  'price': '48,14 €',\n",
              "  'price_number': 48.1393,\n",
              "  'publication_year': '2017',\n",
              "  'publisher': 'Springer International Publishing',\n",
              "  'series': 'Undergraduate Topics In Computer Science Series',\n",
              "  'series_number': '',\n",
              "  'series_url': 'https://www.ebooks.com/en-de/series/undergraduate-topics-in-computer-science/',\n",
              "  'subtitle': 'A Python Approach to Concepts, Techniques and Applications',\n",
              "  'title': 'Introduction to Data Science'},\n",
              " {'add_to_cart_url': '/cart/add/209980266/',\n",
              "  'authors': [{'author_name': 'Nicholas Papagiannis',\n",
              "    'author_url': '/en-de/author/nicholas-papagiannis/208382552/'}],\n",
              "  'book_url': '/en-de/book/209980266/effective-seo-and-content-marketing/nicholas-papagiannis/',\n",
              "  'currency_symbol': '€',\n",
              "  'desktop_short_description': 'Get beyond the basics and see how modern-day users are reimaging the SEO process    SEO is often underutilized and overlooked across the marketing realm today. SEO is not merely trying to improve your website ranking on Google, but it can spark and optimize ideas.\\xa0 Above all it can help improve the amount of free traffic coming to your web...',\n",
              "  'edition': '',\n",
              "  'has_series': False,\n",
              "  'id': 209980266,\n",
              "  'image_alt_tag': 'Effective SEO and Content Marketing: The Ultimate Guide for Maximizing Free Web Traffic',\n",
              "  'image_url': 'https://image.ebooks.com/previews/209/209980/209980266/209980266-sml-1.jpg',\n",
              "  'is_available': True,\n",
              "  'is_preorder': False,\n",
              "  'mobile_short_description': 'Get beyond the basics and see how modern-day users are reimaging the SEO process    SEO is often...',\n",
              "  'num_authors': 1,\n",
              "  'preorder_url': '/account/preorder/?bookId=209980266',\n",
              "  'price': '28,99 €',\n",
              "  'price_number': 28.99,\n",
              "  'publication_year': '2020',\n",
              "  'publisher': 'Wiley',\n",
              "  'series': ' Series',\n",
              "  'series_number': '',\n",
              "  'series_url': '',\n",
              "  'subtitle': 'The Ultimate Guide for Maximizing Free Web Traffic',\n",
              "  'title': 'Effective SEO and Content Marketing'}]"
            ]
          },
          "metadata": {},
          "execution_count": 8
        }
      ]
    },
    {
      "cell_type": "code",
      "metadata": {
        "id": "Fr-kOIz4Cc9l"
      },
      "source": [
        "results_json = response.json()['books']"
      ],
      "execution_count": null,
      "outputs": []
    },
    {
      "cell_type": "code",
      "metadata": {
        "colab": {
          "base_uri": "https://localhost:8080/"
        },
        "id": "lQzghyh7EpIM",
        "outputId": "aec5cf73-e1ca-4f27-d549-596c553b8078"
      },
      "source": [
        "response.json()"
      ],
      "execution_count": null,
      "outputs": [
        {
          "output_type": "execute_result",
          "data": {
            "text/plain": [
              "{'books': [{'add_to_cart_url': '/cart/add/95802408/',\n",
              "   'authors': [{'author_name': 'David Miles Huber',\n",
              "     'author_url': '/en-de/author/david-miles-huber/53937/'},\n",
              "    {'author_name': 'Robert E. Runstein',\n",
              "     'author_url': '/en-de/author/robert-e.-runstein/239207/'}],\n",
              "   'book_url': '/en-de/book/95802408/modern-recording-techniques/david-miles-huber/',\n",
              "   'currency_symbol': '€',\n",
              "   'desktop_short_description': 'Modern Recording Techniques is the bestselling, authoritative guide to sound and music recording. Whether you’re just starting out or are looking for a step-up in the industry,  Modern Recording Techniques  provides an in-depth read on the art and technologies of music production. It’s a must-have reference for all audio bookshelves. Using its...',\n",
              "   'edition': ' (9th ed.)',\n",
              "   'has_series': True,\n",
              "   'id': 95802408,\n",
              "   'image_alt_tag': 'Modern Recording Techniques',\n",
              "   'image_url': 'https://image.ebooks.com/previews/095/095802/095802408/095802408-sml-1.jpg',\n",
              "   'is_available': True,\n",
              "   'is_preorder': False,\n",
              "   'mobile_short_description': 'Modern Recording Techniques is the bestselling, authoritative guide to sound and music recording....',\n",
              "   'num_authors': 2,\n",
              "   'preorder_url': '/account/preorder/?bookId=95802408',\n",
              "   'price': '40,62 €',\n",
              "   'price_number': 40.6176694839,\n",
              "   'publication_year': '2017',\n",
              "   'publisher': 'Taylor and Francis',\n",
              "   'series': 'ISSN Series',\n",
              "   'series_number': '',\n",
              "   'series_url': 'https://www.ebooks.com/en-de/series/issn/',\n",
              "   'subtitle': '',\n",
              "   'title': 'Modern Recording Techniques'},\n",
              "  {'add_to_cart_url': '/cart/add/589081/',\n",
              "   'authors': [{'author_name': 'Jennifer Aaker',\n",
              "     'author_url': '/en-de/author/jennifer-aaker/264487/'},\n",
              "    {'author_name': 'Andy Smith',\n",
              "     'author_url': '/en-de/author/andy-smith/36949/'}],\n",
              "   'book_url': '/en-de/book/589081/the-dragonfly-effect/jennifer-aaker/',\n",
              "   'currency_symbol': '€',\n",
              "   'desktop_short_description': 'Proven strategies for harnessing the power of social media to drive social change   Many books teach the mechanics of using Facebook, Twitter, and YouTube to compete in business. But no book addresses how to harness the incredible power of social media to make a difference.  The Dragonfly Effect  shows you how to tap social media and consumer...',\n",
              "   'edition': '',\n",
              "   'has_series': False,\n",
              "   'id': 589081,\n",
              "   'image_alt_tag': 'The Dragonfly Effect: Quick, Effective, and Powerful Ways To Use Social Media to Drive Social Change',\n",
              "   'image_url': 'https://image.ebooks.com/previews/000/000589/000589081/000589081-sml-1.jpg',\n",
              "   'is_available': True,\n",
              "   'is_preorder': False,\n",
              "   'mobile_short_description': 'Proven strategies for harnessing the power of social media to drive social change   Many books teach...',\n",
              "   'num_authors': 5,\n",
              "   'preorder_url': '/account/preorder/?bookId=589081',\n",
              "   'price': '16,99 €',\n",
              "   'price_number': 16.99,\n",
              "   'publication_year': '2010',\n",
              "   'publisher': 'Wiley',\n",
              "   'series': ' Series',\n",
              "   'series_number': '',\n",
              "   'series_url': '',\n",
              "   'subtitle': 'Quick, Effective, and Powerful Ways To Use Social Media to Drive Social Change',\n",
              "   'title': 'The Dragonfly Effect'},\n",
              "  {'add_to_cart_url': '/cart/add/210124083/',\n",
              "   'authors': [{'author_name': 'Martin M. Weiss',\n",
              "     'author_url': '/en-de/author/martin-m.-weiss/94214231/'}],\n",
              "   'book_url': '/en-de/book/210124083/comptia-security-sy0-601-exam-cram/martin-m-weiss/',\n",
              "   'currency_symbol': '€',\n",
              "   'desktop_short_description': 'CompTIA® Security+ SY0-601 Exam Cram,  is the perfect study guide to help you pass the newly updated version of the CompTIA Security+ exam. It provides coverage and practice questions for every exam topic. Extensive prep tools include quizzes, Exam Alerts, and our essential last-minute review Cram Sheet. The powerful Pearson Test Prep practice...',\n",
              "   'edition': ' (6th ed.)',\n",
              "   'has_series': False,\n",
              "   'id': 210124083,\n",
              "   'image_alt_tag': 'CompTIA Security&#x2B; SY0-601 Exam Cram',\n",
              "   'image_url': 'https://image.ebooks.com/previews/210/210124/210124083/210124083-sml-1.jpg',\n",
              "   'is_available': True,\n",
              "   'is_preorder': False,\n",
              "   'mobile_short_description': 'CompTIA® Security+ SY0-601 Exam Cram,  is the perfect study guide to help you pass the newly updated...',\n",
              "   'num_authors': 1,\n",
              "   'preorder_url': '/account/preorder/?bookId=210124083',\n",
              "   'price': '33,19 €',\n",
              "   'price_number': 33.1944389605,\n",
              "   'publication_year': '2020',\n",
              "   'publisher': 'Pearson Education',\n",
              "   'series': ' Series',\n",
              "   'series_number': '',\n",
              "   'series_url': '',\n",
              "   'subtitle': '',\n",
              "   'title': 'CompTIA Security+ SY0-601 Exam Cram'},\n",
              "  {'add_to_cart_url': '/cart/add/95640666/',\n",
              "   'authors': [{'author_name': 'Jake VanderPlas',\n",
              "     'author_url': '/en-de/author/jake-vanderplas/1293677/'}],\n",
              "   'book_url': '/en-de/book/95640666/python-data-science-handbook/jake-vanderplas/',\n",
              "   'currency_symbol': '€',\n",
              "   'desktop_short_description': 'For many researchers, Python is a first-class tool mainly because of its libraries for storing, manipulating, and gaining insight from data. Several resources exist for individual pieces of this data science stack, but only with the Python Data Science Handbook do you get them all—IPython, NumPy, Pandas, Matplotlib, Scikit-Learn, and other related...',\n",
              "   'edition': '',\n",
              "   'has_series': False,\n",
              "   'id': 95640666,\n",
              "   'image_alt_tag': 'Python Data Science Handbook: Essential Tools for Working with Data',\n",
              "   'image_url': 'https://image.ebooks.com/previews/095/095640/095640666/095640666-sml-1.jpg',\n",
              "   'is_available': True,\n",
              "   'is_preorder': False,\n",
              "   'mobile_short_description': 'For many researchers, Python is a first-class tool mainly because of its libraries for storing,...',\n",
              "   'num_authors': 1,\n",
              "   'preorder_url': '/account/preorder/?bookId=95640666',\n",
              "   'price': '49,22 €',\n",
              "   'price_number': 49.22,\n",
              "   'publication_year': '2016',\n",
              "   'publisher': \"O'Reilly Media\",\n",
              "   'series': ' Series',\n",
              "   'series_number': '',\n",
              "   'series_url': '',\n",
              "   'subtitle': 'Essential Tools for Working with Data',\n",
              "   'title': 'Python Data Science Handbook'},\n",
              "  {'add_to_cart_url': '/cart/add/209622672/',\n",
              "   'authors': [{'author_name': 'Rune Rasmussen',\n",
              "     'author_url': '/en-de/author/rune-rasmussen/208214532/'},\n",
              "    {'author_name': 'Harish Gulati',\n",
              "     'author_url': '/en-de/author/harish-gulati/208214531/'}],\n",
              "   'book_url': '/en-de/book/209622672/data-analyst/rune-rasmussen/',\n",
              "   'currency_symbol': '€',\n",
              "   'desktop_short_description': 'With this book, aspiring data analysts will discover what data analysts do all day, what skills they will need for the role, and what regulations they will be required to adhere to. Practising data analysts can explore useful data analysis tools, methods and techniques, brush up on best practices and look at how they can advance their career.',\n",
              "   'edition': '',\n",
              "   'has_series': False,\n",
              "   'id': 209622672,\n",
              "   'image_alt_tag': 'Data Analyst: Careers in data analysis',\n",
              "   'image_url': 'https://image.ebooks.com/previews/209/209622/209622672/209622672-sml-1.jpg',\n",
              "   'is_available': True,\n",
              "   'is_preorder': False,\n",
              "   'mobile_short_description': 'With this book, aspiring data analysts will discover what data analysts do all day, what skills they...',\n",
              "   'num_authors': 6,\n",
              "   'preorder_url': '/account/preorder/?bookId=209622672',\n",
              "   'price': '24,60 €',\n",
              "   'price_number': 24.5993,\n",
              "   'publication_year': '2019',\n",
              "   'publisher': 'BCS Learning & Development Limited',\n",
              "   'series': ' Series',\n",
              "   'series_number': '',\n",
              "   'series_url': '',\n",
              "   'subtitle': 'Careers in data analysis',\n",
              "   'title': 'Data Analyst'},\n",
              "  {'add_to_cart_url': '/cart/add/210086046/',\n",
              "   'authors': [{'author_name': 'David Nahmani',\n",
              "     'author_url': '/en-de/author/david-nahmani/202181/'}],\n",
              "   'book_url': '/en-de/book/210086046/logic-pro-x-10-5-apple-pro-training-series/david-nahmani/',\n",
              "   'currency_symbol': '€',\n",
              "   'desktop_short_description': 'Logic Pro X 10.6 Update: Although there has been a 10.6 release since the time that this book was published, the content is still applicable. The changes in 10.6 do not affect the book content.      Record, arrange, mix, produce, and polish your music with this best-selling, Apple-certified guide to Logic Pro X 10.5. Veteran producer and composer...',\n",
              "   'edition': '',\n",
              "   'has_series': True,\n",
              "   'id': 210086046,\n",
              "   'image_alt_tag': 'Logic Pro X 10.5 - Apple Pro Training Series: Professional Music Production',\n",
              "   'image_url': 'https://image.ebooks.com/previews/210/210086/210086046/210086046-sml-1.jpg',\n",
              "   'is_available': True,\n",
              "   'is_preorder': False,\n",
              "   'mobile_short_description': 'Logic Pro X 10.6 Update: Although there has been a 10.6 release since the time that this book was...',\n",
              "   'num_authors': 1,\n",
              "   'preorder_url': '/account/preorder/?bookId=210086046',\n",
              "   'price': '55,33 €',\n",
              "   'price_number': 55.3302137605,\n",
              "   'publication_year': '2020',\n",
              "   'publisher': 'Pearson Education',\n",
              "   'series': 'Apple Pro Training Series',\n",
              "   'series_number': '',\n",
              "   'series_url': 'https://www.ebooks.com/en-de/series/apple-pro-training/',\n",
              "   'subtitle': 'Professional Music Production',\n",
              "   'title': 'Logic Pro X 10.5 - Apple Pro Training Series'},\n",
              "  {'add_to_cart_url': '/cart/add/817871/',\n",
              "   'authors': [{'author_name': 'Jon Duckett',\n",
              "     'author_url': '/en-de/author/jon-duckett/50444/'}],\n",
              "   'book_url': '/en-de/book/817871/html-and-css/jon-duckett/',\n",
              "   'currency_symbol': '€',\n",
              "   'desktop_short_description': 'A full-color introduction to the basics of HTML and CSS!   Every day, more and more people want to learn some HTML and CSS. Joining the professional web designers and programmers are new audiences who need to know a little bit of code at work (update a content management system or e-commerce store) and those who want to make their personal blogs...',\n",
              "   'edition': '',\n",
              "   'has_series': False,\n",
              "   'id': 817871,\n",
              "   'image_alt_tag': 'HTML and CSS: Design and Build Websites',\n",
              "   'image_url': 'https://image.ebooks.com/previews/000/000817/000817871/000817871-sml-1.jpg',\n",
              "   'is_available': True,\n",
              "   'is_preorder': False,\n",
              "   'mobile_short_description': 'A full-color introduction to the basics of HTML and CSS!   Every day, more and more people want to...',\n",
              "   'num_authors': 1,\n",
              "   'preorder_url': '/account/preorder/?bookId=817871',\n",
              "   'price': '19,99 €',\n",
              "   'price_number': 19.99,\n",
              "   'publication_year': '2011',\n",
              "   'publisher': 'Wiley',\n",
              "   'series': ' Series',\n",
              "   'series_number': '',\n",
              "   'series_url': '',\n",
              "   'subtitle': 'Design and Build Websites',\n",
              "   'title': 'HTML and CSS'},\n",
              "  {'add_to_cart_url': '/cart/add/210202687/',\n",
              "   'authors': [{'author_name': 'Mike Chapple',\n",
              "     'author_url': '/en-de/author/mike-chapple/49085/'},\n",
              "    {'author_name': 'David Seidl',\n",
              "     'author_url': '/en-de/author/david-seidl/246896/'}],\n",
              "   'book_url': '/en-de/book/210202687/comptia-security-study-guide/mike-chapple/',\n",
              "   'currency_symbol': '€',\n",
              "   'desktop_short_description': 'Learn the key objectives and most crucial concepts covered by the Security+ Exam SY0-601  \\xa0with this comprehensive and practical study guide! An online test bank offers 650 practice questions and flashcards!    The Eighth Edition of the\\xa0 CompTIA Security+ Study Guide Exam SY0-601 \\xa0efficiently and\\xa0comprehensively prepares you for the SY0-601 Exam....',\n",
              "   'edition': ' (8th ed.)',\n",
              "   'has_series': False,\n",
              "   'id': 210202687,\n",
              "   'image_alt_tag': 'CompTIA Security&#x2B; Study Guide: Exam SY0-601',\n",
              "   'image_url': 'https://image.ebooks.com/previews/210/210202/210202687/210202687-sml-1.jpg',\n",
              "   'is_available': True,\n",
              "   'is_preorder': False,\n",
              "   'mobile_short_description': 'Learn the key objectives and most crucial concepts covered by the Security+ Exam SY0-601  \\xa0with this...',\n",
              "   'num_authors': 2,\n",
              "   'preorder_url': '/account/preorder/?bookId=210202687',\n",
              "   'price': '32,99 €',\n",
              "   'price_number': 32.99,\n",
              "   'publication_year': '2021',\n",
              "   'publisher': 'Wiley',\n",
              "   'series': ' Series',\n",
              "   'series_number': '',\n",
              "   'series_url': '',\n",
              "   'subtitle': 'Exam SY0-601',\n",
              "   'title': 'CompTIA Security+ Study Guide'},\n",
              "  {'add_to_cart_url': '/cart/add/95707582/',\n",
              "   'authors': [{'author_name': 'Laura Igual',\n",
              "     'author_url': '/en-de/author/laura-igual/1315722/'},\n",
              "    {'author_name': 'Santi Seguí',\n",
              "     'author_url': '/en-de/author/santi-seguí/1315723/'}],\n",
              "   'book_url': '/en-de/book/95707582/introduction-to-data-science/laura-igual/',\n",
              "   'currency_symbol': '€',\n",
              "   'desktop_short_description': 'This accessible and classroom-tested textbook/reference presents an introduction to the fundamentals of the emerging and interdisciplinary field of data science. The coverage spans key concepts adopted from statistics and machine learning, useful techniques for graph analysis and parallel programming, and the practical application of data science...',\n",
              "   'edition': '',\n",
              "   'has_series': True,\n",
              "   'id': 95707582,\n",
              "   'image_alt_tag': 'Introduction to Data Science: A Python Approach to Concepts, Techniques and Applications',\n",
              "   'image_url': 'https://image.ebooks.com/previews/095/095707/095707582/095707582-sml-1.jpg',\n",
              "   'is_available': True,\n",
              "   'is_preorder': False,\n",
              "   'mobile_short_description': 'This accessible and classroom-tested textbook/reference presents an introduction to the fundamentals...',\n",
              "   'num_authors': 9,\n",
              "   'preorder_url': '/account/preorder/?bookId=95707582',\n",
              "   'price': '48,14 €',\n",
              "   'price_number': 48.1393,\n",
              "   'publication_year': '2017',\n",
              "   'publisher': 'Springer International Publishing',\n",
              "   'series': 'Undergraduate Topics In Computer Science Series',\n",
              "   'series_number': '',\n",
              "   'series_url': 'https://www.ebooks.com/en-de/series/undergraduate-topics-in-computer-science/',\n",
              "   'subtitle': 'A Python Approach to Concepts, Techniques and Applications',\n",
              "   'title': 'Introduction to Data Science'},\n",
              "  {'add_to_cart_url': '/cart/add/209980266/',\n",
              "   'authors': [{'author_name': 'Nicholas Papagiannis',\n",
              "     'author_url': '/en-de/author/nicholas-papagiannis/208382552/'}],\n",
              "   'book_url': '/en-de/book/209980266/effective-seo-and-content-marketing/nicholas-papagiannis/',\n",
              "   'currency_symbol': '€',\n",
              "   'desktop_short_description': 'Get beyond the basics and see how modern-day users are reimaging the SEO process    SEO is often underutilized and overlooked across the marketing realm today. SEO is not merely trying to improve your website ranking on Google, but it can spark and optimize ideas.\\xa0 Above all it can help improve the amount of free traffic coming to your web...',\n",
              "   'edition': '',\n",
              "   'has_series': False,\n",
              "   'id': 209980266,\n",
              "   'image_alt_tag': 'Effective SEO and Content Marketing: The Ultimate Guide for Maximizing Free Web Traffic',\n",
              "   'image_url': 'https://image.ebooks.com/previews/209/209980/209980266/209980266-sml-1.jpg',\n",
              "   'is_available': True,\n",
              "   'is_preorder': False,\n",
              "   'mobile_short_description': 'Get beyond the basics and see how modern-day users are reimaging the SEO process    SEO is often...',\n",
              "   'num_authors': 1,\n",
              "   'preorder_url': '/account/preorder/?bookId=209980266',\n",
              "   'price': '28,99 €',\n",
              "   'price_number': 28.99,\n",
              "   'publication_year': '2020',\n",
              "   'publisher': 'Wiley',\n",
              "   'series': ' Series',\n",
              "   'series_number': '',\n",
              "   'series_url': '',\n",
              "   'subtitle': 'The Ultimate Guide for Maximizing Free Web Traffic',\n",
              "   'title': 'Effective SEO and Content Marketing'}],\n",
              " 'next_page': '/en-de/subjects/computers/?pageNumber=2',\n",
              " 'pages': [{'is_selected': True,\n",
              "   'number': '1',\n",
              "   'search_url': '/en-de/subjects/computers/',\n",
              "   'show_mobile': True,\n",
              "   'show_tablet': True},\n",
              "  {'is_selected': False,\n",
              "   'number': '2',\n",
              "   'search_url': '/en-de/subjects/computers/?pageNumber=2',\n",
              "   'show_mobile': True,\n",
              "   'show_tablet': True},\n",
              "  {'is_selected': False,\n",
              "   'number': '3',\n",
              "   'search_url': '/en-de/subjects/computers/?pageNumber=3',\n",
              "   'show_mobile': True,\n",
              "   'show_tablet': True},\n",
              "  {'is_selected': False,\n",
              "   'number': '4',\n",
              "   'search_url': '/en-de/subjects/computers/?pageNumber=4',\n",
              "   'show_mobile': True,\n",
              "   'show_tablet': True},\n",
              "  {'is_selected': False,\n",
              "   'number': '5',\n",
              "   'search_url': '/en-de/subjects/computers/?pageNumber=5',\n",
              "   'show_mobile': True,\n",
              "   'show_tablet': True},\n",
              "  {'is_selected': False,\n",
              "   'number': '6',\n",
              "   'search_url': '/en-de/subjects/computers/?pageNumber=6',\n",
              "   'show_mobile': False,\n",
              "   'show_tablet': True},\n",
              "  {'is_selected': False,\n",
              "   'number': '7',\n",
              "   'search_url': '/en-de/subjects/computers/?pageNumber=7',\n",
              "   'show_mobile': False,\n",
              "   'show_tablet': True},\n",
              "  {'is_selected': False,\n",
              "   'number': '8',\n",
              "   'search_url': '/en-de/subjects/computers/?pageNumber=8',\n",
              "   'show_mobile': False,\n",
              "   'show_tablet': True},\n",
              "  {'is_selected': False,\n",
              "   'number': '9',\n",
              "   'search_url': '/en-de/subjects/computers/?pageNumber=9',\n",
              "   'show_mobile': False,\n",
              "   'show_tablet': False}],\n",
              " 'previous_page': None,\n",
              " 'result_page_range': '1 - 10 of 77185 results'}"
            ]
          },
          "metadata": {},
          "execution_count": 28
        }
      ]
    },
    {
      "cell_type": "code",
      "metadata": {
        "id": "HDClvdxNDsra"
      },
      "source": [],
      "execution_count": null,
      "outputs": []
    },
    {
      "cell_type": "code",
      "metadata": {
        "colab": {
          "base_uri": "https://localhost:8080/"
        },
        "id": "I-IPlXHqCc9l",
        "outputId": "b796f9a5-bf86-42aa-b425-739202289a9e"
      },
      "source": [
        "results_json[0]"
      ],
      "execution_count": null,
      "outputs": [
        {
          "output_type": "execute_result",
          "data": {
            "text/plain": [
              "{'add_to_cart_url': '/cart/add/95802408/',\n",
              " 'authors': [{'author_name': 'David Miles Huber',\n",
              "   'author_url': '/en-de/author/david-miles-huber/53937/'},\n",
              "  {'author_name': 'Robert E. Runstein',\n",
              "   'author_url': '/en-de/author/robert-e.-runstein/239207/'}],\n",
              " 'book_url': '/en-de/book/95802408/modern-recording-techniques/david-miles-huber/',\n",
              " 'currency_symbol': '€',\n",
              " 'desktop_short_description': 'Modern Recording Techniques is the bestselling, authoritative guide to sound and music recording. Whether you’re just starting out or are looking for a step-up in the industry,  Modern Recording Techniques  provides an in-depth read on the art and technologies of music production. It’s a must-have reference for all audio bookshelves. Using its...',\n",
              " 'edition': ' (9th ed.)',\n",
              " 'has_series': True,\n",
              " 'id': 95802408,\n",
              " 'image_alt_tag': 'Modern Recording Techniques',\n",
              " 'image_url': 'https://image.ebooks.com/previews/095/095802/095802408/095802408-sml-1.jpg',\n",
              " 'is_available': True,\n",
              " 'is_preorder': False,\n",
              " 'mobile_short_description': 'Modern Recording Techniques is the bestselling, authoritative guide to sound and music recording....',\n",
              " 'num_authors': 2,\n",
              " 'preorder_url': '/account/preorder/?bookId=95802408',\n",
              " 'price': '40,62 €',\n",
              " 'price_number': 40.6176694839,\n",
              " 'publication_year': '2017',\n",
              " 'publisher': 'Taylor and Francis',\n",
              " 'series': 'ISSN Series',\n",
              " 'series_number': '',\n",
              " 'series_url': 'https://www.ebooks.com/en-de/series/issn/',\n",
              " 'subtitle': '',\n",
              " 'title': 'Modern Recording Techniques'}"
            ]
          },
          "metadata": {},
          "execution_count": 11
        }
      ]
    },
    {
      "cell_type": "code",
      "metadata": {
        "colab": {
          "base_uri": "https://localhost:8080/",
          "height": 35
        },
        "id": "fwAluDueCc9m",
        "outputId": "2af6ccb4-8a76-4959-ab33-31b4f8238afb"
      },
      "source": [
        "# title\n",
        "results_json[0]['title']"
      ],
      "execution_count": null,
      "outputs": [
        {
          "output_type": "execute_result",
          "data": {
            "application/vnd.google.colaboratory.intrinsic+json": {
              "type": "string"
            },
            "text/plain": [
              "'Modern Recording Techniques'"
            ]
          },
          "metadata": {},
          "execution_count": 12
        }
      ]
    },
    {
      "cell_type": "code",
      "metadata": {
        "colab": {
          "base_uri": "https://localhost:8080/",
          "height": 35
        },
        "id": "OanwSSh8Cc9m",
        "outputId": "cb6ffb20-b43f-4a1b-8c3f-8b1aa2b58650"
      },
      "source": [
        "# subtitle\n",
        "results_json[0]['subtitle']"
      ],
      "execution_count": null,
      "outputs": [
        {
          "output_type": "execute_result",
          "data": {
            "application/vnd.google.colaboratory.intrinsic+json": {
              "type": "string"
            },
            "text/plain": [
              "''"
            ]
          },
          "metadata": {},
          "execution_count": 13
        }
      ]
    },
    {
      "cell_type": "code",
      "metadata": {
        "colab": {
          "base_uri": "https://localhost:8080/",
          "height": 35
        },
        "id": "SMYH4thKCc9m",
        "outputId": "3b2b7f22-74a8-430d-f5c9-dbfac3d3116a"
      },
      "source": [
        "# author\n",
        "results_json[0]['authors'][0]['author_name']"
      ],
      "execution_count": null,
      "outputs": [
        {
          "output_type": "execute_result",
          "data": {
            "application/vnd.google.colaboratory.intrinsic+json": {
              "type": "string"
            },
            "text/plain": [
              "'David Miles Huber'"
            ]
          },
          "metadata": {},
          "execution_count": 14
        }
      ]
    },
    {
      "cell_type": "code",
      "metadata": {
        "colab": {
          "base_uri": "https://localhost:8080/",
          "height": 35
        },
        "id": "vkaWrfpwCc9n",
        "outputId": "9af8cc92-3d5a-45b6-e7ae-bea4f8214c7b"
      },
      "source": [
        "# publisher\n",
        "results_json[0]['publisher']"
      ],
      "execution_count": null,
      "outputs": [
        {
          "output_type": "execute_result",
          "data": {
            "application/vnd.google.colaboratory.intrinsic+json": {
              "type": "string"
            },
            "text/plain": [
              "'Taylor and Francis'"
            ]
          },
          "metadata": {},
          "execution_count": 15
        }
      ]
    },
    {
      "cell_type": "code",
      "metadata": {
        "colab": {
          "base_uri": "https://localhost:8080/",
          "height": 35
        },
        "id": "W1IDD1tICc9n",
        "outputId": "30e4770a-a58d-42a0-8eff-3592616e3eb8"
      },
      "source": [
        "# publication year\n",
        "results_json[0]['publication_year']"
      ],
      "execution_count": null,
      "outputs": [
        {
          "output_type": "execute_result",
          "data": {
            "application/vnd.google.colaboratory.intrinsic+json": {
              "type": "string"
            },
            "text/plain": [
              "'2017'"
            ]
          },
          "metadata": {},
          "execution_count": 16
        }
      ]
    },
    {
      "cell_type": "code",
      "metadata": {
        "colab": {
          "base_uri": "https://localhost:8080/",
          "height": 35
        },
        "id": "m2tek-YJCc9n",
        "outputId": "fdadf5b4-47e0-4c75-955d-6c4579de44e3"
      },
      "source": [
        "# price\n",
        "results_json[0]['price']"
      ],
      "execution_count": null,
      "outputs": [
        {
          "output_type": "execute_result",
          "data": {
            "application/vnd.google.colaboratory.intrinsic+json": {
              "type": "string"
            },
            "text/plain": [
              "'40,62 €'"
            ]
          },
          "metadata": {},
          "execution_count": 17
        }
      ]
    },
    {
      "cell_type": "markdown",
      "metadata": {
        "id": "hyBta2UjCc9o"
      },
      "source": [
        "#### Step 7 - Put everything together - Loop through results and append data inside a list"
      ]
    },
    {
      "cell_type": "code",
      "metadata": {
        "id": "0ooGT5qHCc9o"
      },
      "source": [
        "title = []\n",
        "subtitle = []\n",
        "author = []\n",
        "publisher = []\n",
        "publication_year = []\n",
        "price = []\n",
        "\n",
        "for result in results_json:\n",
        "    \n",
        "    # title\n",
        "    title.append(result['title'])\n",
        "    \n",
        "    # subtitle\n",
        "    subtitle.append(result['subtitle'])\n",
        "    \n",
        "    # author\n",
        "    author.append(result['authors'][0]['author_name'])\n",
        "    \n",
        "    # publisher\n",
        "    publisher.append(result['publisher'])\n",
        "    \n",
        "    # publication_year\n",
        "    publication_year.append(result['publication_year'])\n",
        "    \n",
        "    # price\n",
        "    price.append(result['price'])\n"
      ],
      "execution_count": null,
      "outputs": []
    },
    {
      "cell_type": "code",
      "metadata": {
        "colab": {
          "base_uri": "https://localhost:8080/"
        },
        "id": "IHAuYsjZCc9o",
        "outputId": "f19fb964-c651-4dcd-eb48-11cb1f76f0fd"
      },
      "source": [
        "# double check\n",
        "author"
      ],
      "execution_count": null,
      "outputs": [
        {
          "output_type": "execute_result",
          "data": {
            "text/plain": [
              "['David Miles Huber',\n",
              " 'Jennifer Aaker',\n",
              " 'Martin M. Weiss',\n",
              " 'Jake VanderPlas',\n",
              " 'Rune Rasmussen',\n",
              " 'David Nahmani',\n",
              " 'Jon Duckett',\n",
              " 'Mike Chapple',\n",
              " 'Laura Igual',\n",
              " 'Nicholas Papagiannis']"
            ]
          },
          "metadata": {},
          "execution_count": 19
        }
      ]
    },
    {
      "cell_type": "markdown",
      "metadata": {
        "id": "4KHQ-oKlCc9p"
      },
      "source": [
        "#### Step 8 - Pandas Dataframe"
      ]
    },
    {
      "cell_type": "code",
      "metadata": {
        "id": "YnLfG6zBCc9p"
      },
      "source": [
        "books_df = pd.DataFrame({'Title':title, 'Subtitle':subtitle, 'Author':author, 'Publisher':publisher,\n",
        "                        'Publication Year': publication_year, 'Price':price})"
      ],
      "execution_count": null,
      "outputs": []
    },
    {
      "cell_type": "code",
      "metadata": {
        "colab": {
          "base_uri": "https://localhost:8080/",
          "height": 359
        },
        "id": "sBmiKnktCc9p",
        "outputId": "44dbca0b-1e34-45a1-bb35-047c6df2f0d6"
      },
      "source": [
        "books_df"
      ],
      "execution_count": null,
      "outputs": [
        {
          "output_type": "execute_result",
          "data": {
            "text/html": [
              "<div>\n",
              "<style scoped>\n",
              "    .dataframe tbody tr th:only-of-type {\n",
              "        vertical-align: middle;\n",
              "    }\n",
              "\n",
              "    .dataframe tbody tr th {\n",
              "        vertical-align: top;\n",
              "    }\n",
              "\n",
              "    .dataframe thead th {\n",
              "        text-align: right;\n",
              "    }\n",
              "</style>\n",
              "<table border=\"1\" class=\"dataframe\">\n",
              "  <thead>\n",
              "    <tr style=\"text-align: right;\">\n",
              "      <th></th>\n",
              "      <th>Title</th>\n",
              "      <th>Subtitle</th>\n",
              "      <th>Author</th>\n",
              "      <th>Publisher</th>\n",
              "      <th>Publication Year</th>\n",
              "      <th>Price</th>\n",
              "    </tr>\n",
              "  </thead>\n",
              "  <tbody>\n",
              "    <tr>\n",
              "      <th>0</th>\n",
              "      <td>Modern Recording Techniques</td>\n",
              "      <td></td>\n",
              "      <td>David Miles Huber</td>\n",
              "      <td>Taylor and Francis</td>\n",
              "      <td>2017</td>\n",
              "      <td>40,62 €</td>\n",
              "    </tr>\n",
              "    <tr>\n",
              "      <th>1</th>\n",
              "      <td>The Dragonfly Effect</td>\n",
              "      <td>Quick, Effective, and Powerful Ways To Use Soc...</td>\n",
              "      <td>Jennifer Aaker</td>\n",
              "      <td>Wiley</td>\n",
              "      <td>2010</td>\n",
              "      <td>16,99 €</td>\n",
              "    </tr>\n",
              "    <tr>\n",
              "      <th>2</th>\n",
              "      <td>CompTIA Security+ SY0-601 Exam Cram</td>\n",
              "      <td></td>\n",
              "      <td>Martin M. Weiss</td>\n",
              "      <td>Pearson Education</td>\n",
              "      <td>2020</td>\n",
              "      <td>33,19 €</td>\n",
              "    </tr>\n",
              "    <tr>\n",
              "      <th>3</th>\n",
              "      <td>Python Data Science Handbook</td>\n",
              "      <td>Essential Tools for Working with Data</td>\n",
              "      <td>Jake VanderPlas</td>\n",
              "      <td>O'Reilly Media</td>\n",
              "      <td>2016</td>\n",
              "      <td>49,22 €</td>\n",
              "    </tr>\n",
              "    <tr>\n",
              "      <th>4</th>\n",
              "      <td>Data Analyst</td>\n",
              "      <td>Careers in data analysis</td>\n",
              "      <td>Rune Rasmussen</td>\n",
              "      <td>BCS Learning &amp; Development Limited</td>\n",
              "      <td>2019</td>\n",
              "      <td>24,60 €</td>\n",
              "    </tr>\n",
              "    <tr>\n",
              "      <th>5</th>\n",
              "      <td>Logic Pro X 10.5 - Apple Pro Training Series</td>\n",
              "      <td>Professional Music Production</td>\n",
              "      <td>David Nahmani</td>\n",
              "      <td>Pearson Education</td>\n",
              "      <td>2020</td>\n",
              "      <td>55,33 €</td>\n",
              "    </tr>\n",
              "    <tr>\n",
              "      <th>6</th>\n",
              "      <td>HTML and CSS</td>\n",
              "      <td>Design and Build Websites</td>\n",
              "      <td>Jon Duckett</td>\n",
              "      <td>Wiley</td>\n",
              "      <td>2011</td>\n",
              "      <td>19,99 €</td>\n",
              "    </tr>\n",
              "    <tr>\n",
              "      <th>7</th>\n",
              "      <td>CompTIA Security+ Study Guide</td>\n",
              "      <td>Exam SY0-601</td>\n",
              "      <td>Mike Chapple</td>\n",
              "      <td>Wiley</td>\n",
              "      <td>2021</td>\n",
              "      <td>32,99 €</td>\n",
              "    </tr>\n",
              "    <tr>\n",
              "      <th>8</th>\n",
              "      <td>Introduction to Data Science</td>\n",
              "      <td>A Python Approach to Concepts, Techniques and ...</td>\n",
              "      <td>Laura Igual</td>\n",
              "      <td>Springer International Publishing</td>\n",
              "      <td>2017</td>\n",
              "      <td>48,14 €</td>\n",
              "    </tr>\n",
              "    <tr>\n",
              "      <th>9</th>\n",
              "      <td>Effective SEO and Content Marketing</td>\n",
              "      <td>The Ultimate Guide for Maximizing Free Web Tra...</td>\n",
              "      <td>Nicholas Papagiannis</td>\n",
              "      <td>Wiley</td>\n",
              "      <td>2020</td>\n",
              "      <td>28,99 €</td>\n",
              "    </tr>\n",
              "  </tbody>\n",
              "</table>\n",
              "</div>"
            ],
            "text/plain": [
              "                                          Title  ...    Price\n",
              "0                   Modern Recording Techniques  ...  40,62 €\n",
              "1                          The Dragonfly Effect  ...  16,99 €\n",
              "2           CompTIA Security+ SY0-601 Exam Cram  ...  33,19 €\n",
              "3                  Python Data Science Handbook  ...  49,22 €\n",
              "4                                  Data Analyst  ...  24,60 €\n",
              "5  Logic Pro X 10.5 - Apple Pro Training Series  ...  55,33 €\n",
              "6                                  HTML and CSS  ...  19,99 €\n",
              "7                 CompTIA Security+ Study Guide  ...  32,99 €\n",
              "8                  Introduction to Data Science  ...  48,14 €\n",
              "9           Effective SEO and Content Marketing  ...  28,99 €\n",
              "\n",
              "[10 rows x 6 columns]"
            ]
          },
          "metadata": {},
          "execution_count": 21
        }
      ]
    },
    {
      "cell_type": "markdown",
      "metadata": {
        "id": "I5x2wnBfCc9p"
      },
      "source": [
        "#### Step 9 - Store results in Excel"
      ]
    },
    {
      "cell_type": "code",
      "metadata": {
        "id": "OtuW7i89Cc9p"
      },
      "source": [
        "books_df.to_excel('books.xlsx', index=False)"
      ],
      "execution_count": null,
      "outputs": []
    },
    {
      "cell_type": "markdown",
      "metadata": {
        "id": "LP1H4AQkGMSo"
      },
      "source": [
        "####OR , we can read all the infos and process the data"
      ]
    },
    {
      "cell_type": "code",
      "metadata": {
        "colab": {
          "base_uri": "https://localhost:8080/",
          "height": 564
        },
        "id": "yKCpHDcXGT7f",
        "outputId": "791d2f21-26e1-4be6-9f9e-b94124d4e75a"
      },
      "source": [
        "df = pd.json_normalize(response.json(), 'books')\n",
        "df.head()"
      ],
      "execution_count": null,
      "outputs": [
        {
          "output_type": "execute_result",
          "data": {
            "text/html": [
              "<div>\n",
              "<style scoped>\n",
              "    .dataframe tbody tr th:only-of-type {\n",
              "        vertical-align: middle;\n",
              "    }\n",
              "\n",
              "    .dataframe tbody tr th {\n",
              "        vertical-align: top;\n",
              "    }\n",
              "\n",
              "    .dataframe thead th {\n",
              "        text-align: right;\n",
              "    }\n",
              "</style>\n",
              "<table border=\"1\" class=\"dataframe\">\n",
              "  <thead>\n",
              "    <tr style=\"text-align: right;\">\n",
              "      <th></th>\n",
              "      <th>id</th>\n",
              "      <th>book_url</th>\n",
              "      <th>image_url</th>\n",
              "      <th>image_alt_tag</th>\n",
              "      <th>title</th>\n",
              "      <th>edition</th>\n",
              "      <th>subtitle</th>\n",
              "      <th>authors</th>\n",
              "      <th>num_authors</th>\n",
              "      <th>series</th>\n",
              "      <th>series_number</th>\n",
              "      <th>has_series</th>\n",
              "      <th>series_url</th>\n",
              "      <th>publisher</th>\n",
              "      <th>publication_year</th>\n",
              "      <th>price</th>\n",
              "      <th>desktop_short_description</th>\n",
              "      <th>mobile_short_description</th>\n",
              "      <th>is_preorder</th>\n",
              "      <th>is_available</th>\n",
              "      <th>preorder_url</th>\n",
              "      <th>add_to_cart_url</th>\n",
              "      <th>currency_symbol</th>\n",
              "      <th>price_number</th>\n",
              "    </tr>\n",
              "  </thead>\n",
              "  <tbody>\n",
              "    <tr>\n",
              "      <th>0</th>\n",
              "      <td>95802408</td>\n",
              "      <td>/en-de/book/95802408/modern-recording-techniqu...</td>\n",
              "      <td>https://image.ebooks.com/previews/095/095802/0...</td>\n",
              "      <td>Modern Recording Techniques</td>\n",
              "      <td>Modern Recording Techniques</td>\n",
              "      <td>(9th ed.)</td>\n",
              "      <td></td>\n",
              "      <td>[{'author_name': 'David Miles Huber', 'author_...</td>\n",
              "      <td>2</td>\n",
              "      <td>ISSN Series</td>\n",
              "      <td></td>\n",
              "      <td>True</td>\n",
              "      <td>https://www.ebooks.com/en-de/series/issn/</td>\n",
              "      <td>Taylor and Francis</td>\n",
              "      <td>2017</td>\n",
              "      <td>40,62 €</td>\n",
              "      <td>Modern Recording Techniques is the bestselling...</td>\n",
              "      <td>Modern Recording Techniques is the bestselling...</td>\n",
              "      <td>False</td>\n",
              "      <td>True</td>\n",
              "      <td>/account/preorder/?bookId=95802408</td>\n",
              "      <td>/cart/add/95802408/</td>\n",
              "      <td>€</td>\n",
              "      <td>40.617669</td>\n",
              "    </tr>\n",
              "    <tr>\n",
              "      <th>1</th>\n",
              "      <td>589081</td>\n",
              "      <td>/en-de/book/589081/the-dragonfly-effect/jennif...</td>\n",
              "      <td>https://image.ebooks.com/previews/000/000589/0...</td>\n",
              "      <td>The Dragonfly Effect: Quick, Effective, and Po...</td>\n",
              "      <td>The Dragonfly Effect</td>\n",
              "      <td></td>\n",
              "      <td>Quick, Effective, and Powerful Ways To Use Soc...</td>\n",
              "      <td>[{'author_name': 'Jennifer Aaker', 'author_url...</td>\n",
              "      <td>5</td>\n",
              "      <td>Series</td>\n",
              "      <td></td>\n",
              "      <td>False</td>\n",
              "      <td></td>\n",
              "      <td>Wiley</td>\n",
              "      <td>2010</td>\n",
              "      <td>16,99 €</td>\n",
              "      <td>Proven strategies for harnessing the power of ...</td>\n",
              "      <td>Proven strategies for harnessing the power of ...</td>\n",
              "      <td>False</td>\n",
              "      <td>True</td>\n",
              "      <td>/account/preorder/?bookId=589081</td>\n",
              "      <td>/cart/add/589081/</td>\n",
              "      <td>€</td>\n",
              "      <td>16.990000</td>\n",
              "    </tr>\n",
              "    <tr>\n",
              "      <th>2</th>\n",
              "      <td>210124083</td>\n",
              "      <td>/en-de/book/210124083/comptia-security-sy0-601...</td>\n",
              "      <td>https://image.ebooks.com/previews/210/210124/2...</td>\n",
              "      <td>CompTIA Security&amp;#x2B; SY0-601 Exam Cram</td>\n",
              "      <td>CompTIA Security+ SY0-601 Exam Cram</td>\n",
              "      <td>(6th ed.)</td>\n",
              "      <td></td>\n",
              "      <td>[{'author_name': 'Martin M. Weiss', 'author_ur...</td>\n",
              "      <td>1</td>\n",
              "      <td>Series</td>\n",
              "      <td></td>\n",
              "      <td>False</td>\n",
              "      <td></td>\n",
              "      <td>Pearson Education</td>\n",
              "      <td>2020</td>\n",
              "      <td>33,19 €</td>\n",
              "      <td>CompTIA® Security+ SY0-601 Exam Cram,  is the ...</td>\n",
              "      <td>CompTIA® Security+ SY0-601 Exam Cram,  is the ...</td>\n",
              "      <td>False</td>\n",
              "      <td>True</td>\n",
              "      <td>/account/preorder/?bookId=210124083</td>\n",
              "      <td>/cart/add/210124083/</td>\n",
              "      <td>€</td>\n",
              "      <td>33.194439</td>\n",
              "    </tr>\n",
              "    <tr>\n",
              "      <th>3</th>\n",
              "      <td>95640666</td>\n",
              "      <td>/en-de/book/95640666/python-data-science-handb...</td>\n",
              "      <td>https://image.ebooks.com/previews/095/095640/0...</td>\n",
              "      <td>Python Data Science Handbook: Essential Tools ...</td>\n",
              "      <td>Python Data Science Handbook</td>\n",
              "      <td></td>\n",
              "      <td>Essential Tools for Working with Data</td>\n",
              "      <td>[{'author_name': 'Jake VanderPlas', 'author_ur...</td>\n",
              "      <td>1</td>\n",
              "      <td>Series</td>\n",
              "      <td></td>\n",
              "      <td>False</td>\n",
              "      <td></td>\n",
              "      <td>O'Reilly Media</td>\n",
              "      <td>2016</td>\n",
              "      <td>49,22 €</td>\n",
              "      <td>For many researchers, Python is a first-class ...</td>\n",
              "      <td>For many researchers, Python is a first-class ...</td>\n",
              "      <td>False</td>\n",
              "      <td>True</td>\n",
              "      <td>/account/preorder/?bookId=95640666</td>\n",
              "      <td>/cart/add/95640666/</td>\n",
              "      <td>€</td>\n",
              "      <td>49.220000</td>\n",
              "    </tr>\n",
              "    <tr>\n",
              "      <th>4</th>\n",
              "      <td>209622672</td>\n",
              "      <td>/en-de/book/209622672/data-analyst/rune-rasmus...</td>\n",
              "      <td>https://image.ebooks.com/previews/209/209622/2...</td>\n",
              "      <td>Data Analyst: Careers in data analysis</td>\n",
              "      <td>Data Analyst</td>\n",
              "      <td></td>\n",
              "      <td>Careers in data analysis</td>\n",
              "      <td>[{'author_name': 'Rune Rasmussen', 'author_url...</td>\n",
              "      <td>6</td>\n",
              "      <td>Series</td>\n",
              "      <td></td>\n",
              "      <td>False</td>\n",
              "      <td></td>\n",
              "      <td>BCS Learning &amp; Development Limited</td>\n",
              "      <td>2019</td>\n",
              "      <td>24,60 €</td>\n",
              "      <td>With this book, aspiring data analysts will di...</td>\n",
              "      <td>With this book, aspiring data analysts will di...</td>\n",
              "      <td>False</td>\n",
              "      <td>True</td>\n",
              "      <td>/account/preorder/?bookId=209622672</td>\n",
              "      <td>/cart/add/209622672/</td>\n",
              "      <td>€</td>\n",
              "      <td>24.599300</td>\n",
              "    </tr>\n",
              "  </tbody>\n",
              "</table>\n",
              "</div>"
            ],
            "text/plain": [
              "          id  ... price_number\n",
              "0   95802408  ...    40.617669\n",
              "1     589081  ...    16.990000\n",
              "2  210124083  ...    33.194439\n",
              "3   95640666  ...    49.220000\n",
              "4  209622672  ...    24.599300\n",
              "\n",
              "[5 rows x 24 columns]"
            ]
          },
          "metadata": {},
          "execution_count": 38
        }
      ]
    },
    {
      "cell_type": "code",
      "metadata": {
        "id": "XqNk4D08GVIz"
      },
      "source": [
        "df=df[['title','subtitle', 'authors', 'publisher','publication_year', 'price']]"
      ],
      "execution_count": null,
      "outputs": []
    },
    {
      "cell_type": "code",
      "metadata": {
        "colab": {
          "base_uri": "https://localhost:8080/",
          "height": 289
        },
        "id": "uBPrPMS9GlWt",
        "outputId": "eb8f85e2-2f96-475a-ec6f-a1135b4d2081"
      },
      "source": [
        "df.head()"
      ],
      "execution_count": null,
      "outputs": [
        {
          "output_type": "execute_result",
          "data": {
            "text/html": [
              "<div>\n",
              "<style scoped>\n",
              "    .dataframe tbody tr th:only-of-type {\n",
              "        vertical-align: middle;\n",
              "    }\n",
              "\n",
              "    .dataframe tbody tr th {\n",
              "        vertical-align: top;\n",
              "    }\n",
              "\n",
              "    .dataframe thead th {\n",
              "        text-align: right;\n",
              "    }\n",
              "</style>\n",
              "<table border=\"1\" class=\"dataframe\">\n",
              "  <thead>\n",
              "    <tr style=\"text-align: right;\">\n",
              "      <th></th>\n",
              "      <th>title</th>\n",
              "      <th>subtitle</th>\n",
              "      <th>authors</th>\n",
              "      <th>publisher</th>\n",
              "      <th>publication_year</th>\n",
              "      <th>price</th>\n",
              "    </tr>\n",
              "  </thead>\n",
              "  <tbody>\n",
              "    <tr>\n",
              "      <th>0</th>\n",
              "      <td>Modern Recording Techniques</td>\n",
              "      <td></td>\n",
              "      <td>[{'author_name': 'David Miles Huber', 'author_...</td>\n",
              "      <td>Taylor and Francis</td>\n",
              "      <td>2017</td>\n",
              "      <td>40,62 €</td>\n",
              "    </tr>\n",
              "    <tr>\n",
              "      <th>1</th>\n",
              "      <td>The Dragonfly Effect</td>\n",
              "      <td>Quick, Effective, and Powerful Ways To Use Soc...</td>\n",
              "      <td>[{'author_name': 'Jennifer Aaker', 'author_url...</td>\n",
              "      <td>Wiley</td>\n",
              "      <td>2010</td>\n",
              "      <td>16,99 €</td>\n",
              "    </tr>\n",
              "    <tr>\n",
              "      <th>2</th>\n",
              "      <td>CompTIA Security+ SY0-601 Exam Cram</td>\n",
              "      <td></td>\n",
              "      <td>[{'author_name': 'Martin M. Weiss', 'author_ur...</td>\n",
              "      <td>Pearson Education</td>\n",
              "      <td>2020</td>\n",
              "      <td>33,19 €</td>\n",
              "    </tr>\n",
              "    <tr>\n",
              "      <th>3</th>\n",
              "      <td>Python Data Science Handbook</td>\n",
              "      <td>Essential Tools for Working with Data</td>\n",
              "      <td>[{'author_name': 'Jake VanderPlas', 'author_ur...</td>\n",
              "      <td>O'Reilly Media</td>\n",
              "      <td>2016</td>\n",
              "      <td>49,22 €</td>\n",
              "    </tr>\n",
              "    <tr>\n",
              "      <th>4</th>\n",
              "      <td>Data Analyst</td>\n",
              "      <td>Careers in data analysis</td>\n",
              "      <td>[{'author_name': 'Rune Rasmussen', 'author_url...</td>\n",
              "      <td>BCS Learning &amp; Development Limited</td>\n",
              "      <td>2019</td>\n",
              "      <td>24,60 €</td>\n",
              "    </tr>\n",
              "  </tbody>\n",
              "</table>\n",
              "</div>"
            ],
            "text/plain": [
              "                                 title  ...    price\n",
              "0          Modern Recording Techniques  ...  40,62 €\n",
              "1                 The Dragonfly Effect  ...  16,99 €\n",
              "2  CompTIA Security+ SY0-601 Exam Cram  ...  33,19 €\n",
              "3         Python Data Science Handbook  ...  49,22 €\n",
              "4                         Data Analyst  ...  24,60 €\n",
              "\n",
              "[5 rows x 6 columns]"
            ]
          },
          "metadata": {},
          "execution_count": 40
        }
      ]
    },
    {
      "cell_type": "code",
      "metadata": {
        "id": "27DM7X-mHO3g"
      },
      "source": [],
      "execution_count": null,
      "outputs": []
    }
  ]
}